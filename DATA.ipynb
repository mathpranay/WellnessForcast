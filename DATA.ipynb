{
 "cells": [
  {
   "cell_type": "code",
   "execution_count": 11,
   "metadata": {},
   "outputs": [],
   "source": [
    "import pandas as pd\n",
    "import numpy as np\n",
    "df_e = pd.read_csv('Predicted/AccessToElectricityPredicted.csv',engine = 'python')\n",
    "df_b = pd.read_csv('Predicted/Birth predicted.csv',engine = 'python')\n",
    "df_d = pd.read_csv('Predicted/Death predicted.csv',engine = 'python')\n",
    "df_fp = pd.read_csv('Predicted/FemalePopulationRatioPredicted.csv',engine = 'python')\n",
    "df_f =pd.read_csv('Predicted/Food predicted.csv',engine = 'python')\n",
    "df_i = pd.read_csv('Predicted/Infant.csv',engine = 'python')\n",
    "df_l = pd.read_csv('Predicted/LifeExpectancyPredicted.csv',engine = 'python')\n"
   ]
  },
  {
   "cell_type": "code",
   "execution_count": null,
   "metadata": {},
   "outputs": [],
   "source": []
  }
 ],
 "metadata": {
  "kernelspec": {
   "display_name": "Python 3",
   "language": "python",
   "name": "python3"
  },
  "language_info": {
   "codemirror_mode": {
    "name": "ipython",
    "version": 3
   },
   "file_extension": ".py",
   "mimetype": "text/x-python",
   "name": "python",
   "nbconvert_exporter": "python",
   "pygments_lexer": "ipython3",
   "version": "3.7.0"
  }
 },
 "nbformat": 4,
 "nbformat_minor": 2
}
